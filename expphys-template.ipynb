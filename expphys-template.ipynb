{
 "cells": [
  {
   "cell_type": "markdown",
   "id": "bbc8ec98",
   "metadata": {},
   "source": [
    "# Experimental Physics - JHOF\n",
    "\n",
    "### Winter 2022\n",
    "\n",
    "This is the template for codes that I may use to write lab analyses in the Winter and Spring quarters 2022 of my Experimental Physics classes. I am learning how to use GitHub right now. This code is a shortcut for me to:\n",
    "\n",
    "* Create plots\n",
    "* Use fit functions\n",
    "\n",
    "Instead of having to check the course wiki page every single time. And by the way, $\\frac{3}{12} + \\frac{3}{4}$ is an indefinite sum."
   ]
  },
  {
   "cell_type": "code",
   "execution_count": null,
   "id": "bcbca6be",
   "metadata": {},
   "outputs": [],
   "source": [
    "import numpy as np\n",
    "import matplotlib.pyplot as plt\n",
    "from scipy import optimize\n",
    "%matplotlib inline\n",
    "\n",
    "data_filename = 'Example2_Data.tsv'"
   ]
  },
  {
   "cell_type": "code",
   "execution_count": null,
   "id": "c595e5e3",
   "metadata": {},
   "outputs": [],
   "source": [
    "x, y, dy = np.loadtxt(data_filename, unpack=True, skiprows=1, usecols=[0,1,2])\n",
    "\n",
    "fig, ax = plt.subplots(figsize = (10,8))\n",
    "ax.errorbar(x,y,dy,fmt='k.',capsize = 3)"
   ]
  },
  {
   "cell_type": "markdown",
   "id": "94983cce",
   "metadata": {},
   "source": [
    "Change fit function parameters here:"
   ]
  },
  {
   "cell_type": "code",
   "execution_count": null,
   "id": "92ab3725",
   "metadata": {},
   "outputs": [],
   "source": [
    "def linear(p, xvar):\n",
    "    return p[0] + p[1]*xvar"
   ]
  },
  {
   "cell_type": "markdown",
   "id": "bf9374f0",
   "metadata": {},
   "source": [
    "Change cost functions here:"
   ]
  },
  {
   "cell_type": "code",
   "execution_count": null,
   "id": "ec29bc4f",
   "metadata": {},
   "outputs": [],
   "source": [
    "def residual(p,func, xvar, yvar, err):\n",
    "    return (func(p, xvar) - yvar)/err\n",
    "\n",
    "chisq = sum(residual(guess,linear,x,y,dy)**2)"
   ]
  },
  {
   "cell_type": "markdown",
   "id": "7c9a801d",
   "metadata": {},
   "source": [
    "The code to actually find the best parameters for the defined function:"
   ]
  },
  {
   "cell_type": "code",
   "execution_count": null,
   "id": "272e8a69",
   "metadata": {},
   "outputs": [],
   "source": [
    "def data_fit(p0,func,xvar, yvar, err,tmi=0):\n",
    "    try:\n",
    "        fit = optimize.least_squares(residual, p0, args=(func,xvar, yvar, err),verbose=tmi)\n",
    "    except Exception as error:\n",
    "        print(\"Something has gone wrong:\",error)\n",
    "        return p0,np.zeros_like(p0),-1,-1\n",
    "    pf = fit['x']\n",
    "\n",
    "    print()\n",
    "\n",
    "    try:\n",
    "        cov = np.linalg.inv(fit['jac'].T.dot(fit['jac']))          \n",
    "        # This computes a covariance matrix by finding the inverse of the Jacobian times its transpose\n",
    "        # We need this to find the uncertainty in our fit parameters\n",
    "    except:\n",
    "        # If the fit failed, print the reason\n",
    "        print('Fit did not converge')\n",
    "        print('Result is likely a local minimum')\n",
    "        print('Try changing initial values')\n",
    "        print('Status code:', fit['status'])\n",
    "        print(fit['message'])\n",
    "        return pf,np.zeros_like(pf),-1,-1\n",
    "            #You'll be able to plot with this, but it will not be a good fit.\n",
    "\n",
    "    chisq = sum(residual(pf,func,xvar, yvar, err) **2)\n",
    "    dof = len(xvar) - len(pf)\n",
    "    red_chisq = chisq/dof\n",
    "    pferr = np.sqrt(np.diagonal(cov)) # finds the uncertainty in fit parameters by squaring diagonal elements of the covariance matrix\n",
    "    print('Converged with chi-squared {:.2f}'.format(chisq))\n",
    "    print('Number of degrees of freedom, dof = {:.2f}'.format(dof))\n",
    "    print('Reduced chi-squared {:.2f}'.format(red_chisq))\n",
    "    print()\n",
    "    Columns = [\"Parameter #\",\"Initial guess values:\", \"Best fit values:\", \"Uncertainties in the best fit values:\"]\n",
    "    print('{:<11}'.format(Columns[0]),'|','{:<24}'.format(Columns[1]),\"|\",'{:<24}'.format(Columns[2]),\"|\",'{:<24}'.format(Columns[3]))\n",
    "    for num in range(len(pf)):\n",
    "        print('{:<11}'.format(num),'|','{:<24.3e}'.format(p0[num]),'|','{:<24.3e}'.format(pf[num]),'|','{:<24.3e}'.format(pferr[num]))\n",
    "    return pf, pferr, chisq,dof\n",
    "\n",
    "pf, pferr, chisq, dof = data_fit(guess,linear, x, y, dy)"
   ]
  },
  {
   "cell_type": "markdown",
   "id": "f068d12b",
   "metadata": {},
   "source": [
    "Many plotting things:"
   ]
  },
  {
   "cell_type": "code",
   "execution_count": null,
   "id": "3d744b7d",
   "metadata": {},
   "outputs": [],
   "source": [
    "X = np.linspace(x.min(), x.max(), 500)\n",
    "ax.plot(X, linear(pf, X), 'r-', label = 'Linear Fit: $f(x)$')\n",
    "\n",
    "\n",
    "\n",
    "ax.set_title('Some Sample Data with Error Bars')\n",
    "ax.set_xlabel('x')\n",
    "ax.set_ylabel('y')\n",
    "\n",
    "# Here is the text we want to include...\n",
    "textfit = '$f(x) = A + Bx$ \\n' \n",
    "textfit += '$A = {:.2f} \\pm {:.2f}$ \\n'.format(pf[0],pferr[0]) \n",
    "textfit +='$B = {:.2f} \\pm {:.2f}$ \\n'.format(pf[1],pferr[1]) \n",
    "textfit += '$\\chi^2= {:.1f}$ \\n'.format(chisq) \n",
    "textfit += '$N = {}$ (dof) \\n'.format(dof) \n",
    "textfit += '$\\chi^2/N = {:.2f}$'.format(chisq/dof) \n",
    "\n",
    "#... and below is where we actually place it on the plot\n",
    "ax.text(0.05, 0.95, textfit, transform=ax.transAxes , fontsize=12,verticalalignment='top')\n",
    "\n",
    "ax.set_xlim([x.min()-0.5, x.max()+0.5])\n",
    "  # x.min() is equal to the smallest x value in the entire array, x.max() is equal to the largest\n",
    "  # Together this ensures that the axes always scale to be just slightly wider than the data.\n",
    "ax.legend(loc='lower right')\n",
    "plt.savefig('Example2_Figure1.pdf')\n",
    "plt.show()"
   ]
  }
 ],
 "metadata": {
  "kernelspec": {
   "display_name": "Python 3",
   "language": "python",
   "name": "python3"
  },
  "language_info": {
   "codemirror_mode": {
    "name": "ipython",
    "version": 3
   },
   "file_extension": ".py",
   "mimetype": "text/x-python",
   "name": "python",
   "nbconvert_exporter": "python",
   "pygments_lexer": "ipython3",
   "version": "3.8.8"
  }
 },
 "nbformat": 4,
 "nbformat_minor": 5
}
